{
 "cells": [
  {
   "cell_type": "markdown",
   "metadata": {},
   "source": [
    "# Simple flow\n",
    "a simple call to Presidio Analyzer"
   ]
  },
  {
   "cell_type": "markdown",
   "metadata": {},
   "source": [
    "## 1. PII detection with presidio"
   ]
  },
  {
   "cell_type": "code",
   "execution_count": 24,
   "metadata": {},
   "outputs": [
    {
     "name": "stdout",
     "output_type": "stream",
     "text": [
      "Detected PII: [type: PERSON, start: 11, end: 15, score: 0.85, type: US_DRIVER_LICENSE, start: 50, end: 54, score: 0.6499999999999999]\n"
     ]
    }
   ],
   "source": [
    "from presidio_analyzer import AnalyzerEngine\n",
    "\n",
    "\n",
    "# Define the text to analyze\n",
    "text = \"My name is John and my driver's license number is C654-321-123-456.\"\n",
    "\n",
    "# Initialize PII analyzer engine\n",
    "analyzer = AnalyzerEngine()\n",
    "\n",
    "\n",
    "# Use the analyzer to detect the PII in the text\n",
    "results = analyzer.analyze(text=text, language='en', entities=[\"US_DRIVER_LICENSE\", \"PERSON\"])\n",
    "\n",
    "# Print PII detection the results\n",
    "print(f\"Detected PII: {results}\")\n",
    "\n"
   ]
  },
  {
   "cell_type": "markdown",
   "metadata": {},
   "source": [
    "The result return the entity_type (PERSON), the starting position and the ending position. You can change it into more understable result"
   ]
  },
  {
   "cell_type": "code",
   "execution_count": 6,
   "metadata": {},
   "outputs": [
    {
     "name": "stdout",
     "output_type": "stream",
     "text": [
      "Identified the following PII:\n",
      "- Mr. as TITLE\n",
      "- John Doe as PERSON\n"
     ]
    }
   ],
   "source": [
    "print(\"Identified the following PII:\")\n",
    "for result in results:\n",
    "    print(f\"- {text[result.start:result.end]} as {result.entity_type}\")"
   ]
  },
  {
   "cell_type": "markdown",
   "metadata": {},
   "source": [
    "## 2. PII Anonymizer with Presidio"
   ]
  },
  {
   "cell_type": "code",
   "execution_count": 26,
   "metadata": {},
   "outputs": [
    {
     "name": "stdout",
     "output_type": "stream",
     "text": [
      "Detected PII: [type: PERSON, start: 11, end: 15, score: 0.85, type: US_DRIVER_LICENSE, start: 50, end: 54, score: 0.6499999999999999]\n"
     ]
    }
   ],
   "source": [
    "from presidio_anonymizer import AnonymizerEngine\n",
    "from presidio_anonymizer.entities import RecognizerResult, OperatorConfig\n",
    "\n",
    "# Initialize PII anonymizer engine\n",
    "anonymizer = AnonymizerEngine()\n",
    "\n",
    "# Print the PII detection results from previous step\n",
    "print(f\"Detected PII: {results}\")"
   ]
  },
  {
   "cell_type": "markdown",
   "metadata": {},
   "source": [
    "Method 1: Replace the PII entities by another"
   ]
  },
  {
   "cell_type": "code",
   "execution_count": 28,
   "metadata": {},
   "outputs": [
    {
     "name": "stdout",
     "output_type": "stream",
     "text": [
      "text: My name is qHuz98Mnv8xwsRy2rBnCga7rVS7gEpJbeA6jUinK14A= and my driver's license number is k7QD9VQhLbcyq/pmPrIl+TgkbTU1Aj80u8pG0vOPx8c=-321-123-456.\n",
      "items:\n",
      "[\n",
      "    {'start': 90, 'end': 134, 'entity_type': 'US_DRIVER_LICENSE', 'text': 'k7QD9VQhLbcyq/pmPrIl+TgkbTU1Aj80u8pG0vOPx8c=', 'operator': 'encrypt'},\n",
      "    {'start': 11, 'end': 55, 'entity_type': 'PERSON', 'text': 'qHuz98Mnv8xwsRy2rBnCga7rVS7gEpJbeA6jUinK14A=', 'operator': 'encrypt'}\n",
      "]\n",
      "\n"
     ]
    }
   ],
   "source": [
    "# Use anonymizer enginze to anonymize the PII in the text\n",
    "anonymized_results = anonymizer.anonymize(text=text, \n",
    "                                          analyzer_results= results,\n",
    "                                          operators={\"PERSON\": OperatorConfig(\"encrypt\", {\"new_value\": \"<ANONYMIZED>\"}),\n",
    "                                                    \"US_DRIVER_LICENSE\": OperatorConfig(\"encrypt\", {\"new_value\": \"<ANONYMIZED>\"})})\n",
    "print(anonymized_results)"
   ]
  },
  {
   "cell_type": "markdown",
   "metadata": {},
   "source": [
    "Method 2: Encrypte the PII entities by a key"
   ]
  },
  {
   "cell_type": "code",
   "execution_count": 29,
   "metadata": {},
   "outputs": [
    {
     "name": "stdout",
     "output_type": "stream",
     "text": [
      "text: My name is H+gA6XPMOISwvix0j+fJCeqvR7P7covhLYDNOF9tic0= and my driver's license number is Xce8Djo1mpTGJJvlU6tb1FS6anbMMpe1507bg8CItT4=-321-123-456.\n",
      "items:\n",
      "[\n",
      "    {'start': 90, 'end': 134, 'entity_type': 'US_DRIVER_LICENSE', 'text': 'Xce8Djo1mpTGJJvlU6tb1FS6anbMMpe1507bg8CItT4=', 'operator': 'encrypt'},\n",
      "    {'start': 11, 'end': 55, 'entity_type': 'PERSON', 'text': 'H+gA6XPMOISwvix0j+fJCeqvR7P7covhLYDNOF9tic0=', 'operator': 'encrypt'}\n",
      "]\n",
      "\n"
     ]
    }
   ],
   "source": [
    "# Use anonymizer enginze to anonymize the PII in the text\n",
    "# Define the anonymizer_config\n",
    "anonymized_results = anonymizer.anonymize(text=text, \n",
    "                                          analyzer_results= results,\n",
    "                                          operators={\"PERSON\": OperatorConfig(\"encrypt\", {\"key\": \"WmZq4t7w!z%C&F)J\"}),\n",
    "                                                    \"US_DRIVER_LICENSE\": OperatorConfig(\"encrypt\", {\"key\": \"WmZq4t7w!z%C&F)J\"})})\n",
    "print(anonymized_results)"
   ]
  },
  {
   "cell_type": "markdown",
   "metadata": {},
   "source": [
    "Decrypts back to orginal text if needed"
   ]
  },
  {
   "cell_type": "code",
   "execution_count": 30,
   "metadata": {},
   "outputs": [
    {
     "name": "stdout",
     "output_type": "stream",
     "text": [
      "text: My name is Chloë\n",
      "items:\n",
      "[\n",
      "    {'start': 11, 'end': 16, 'entity_type': 'PERSON', 'text': 'Chloë', 'operator': 'decrypt'}\n",
      "]\n",
      "\n"
     ]
    }
   ],
   "source": [
    "from presidio_anonymizer import DeanonymizeEngine\n",
    "from presidio_anonymizer.entities import OperatorResult, OperatorConfig\n",
    "\n",
    "# Initialize the engine:\n",
    "engine = DeanonymizeEngine()\n",
    "\n",
    "# Invoke the deanonymize function with the text, anonymizer results and\n",
    "# Operators to define the deanonymization type.\n",
    "result = engine.deanonymize(\n",
    "    text=\"My name is S184CMt9Drj7QaKQ21JTrpYzghnboTF9pn/neN8JME0=\",\n",
    "    entities=[\n",
    "        OperatorResult(start=11, end=55, entity_type=\"PERSON\"),\n",
    "    ],\n",
    "    operators={\"DEFAULT\": OperatorConfig(\"decrypt\", {\"key\": \"WmZq4t7w!z%C&F)J\"})},\n",
    ")\n",
    "\n",
    "print(result)"
   ]
  },
  {
   "cell_type": "markdown",
   "metadata": {},
   "source": [
    "# Customize Presidio"
   ]
  },
  {
   "cell_type": "markdown",
   "metadata": {},
   "source": [
    "Next, we'll go over ways to customize Presidio to specific needs by adding PII recognizers, using context words, NER models and more.\n",
    "Presidio is currently supporting:\n",
    "- Deny-list based PII recognition: For example, in the title detection scenario, you might have a pre-defined list of all the person title such as Sir, Mr., Mrs. etc. which you want to remove from your text\n",
    "- Regular-expressions based PII recognition: In some situation, you might want to use the regular expressions to define customized entities. For example the user identification of a company can start with some pre-defined text and followed by some numbers.\n",
    "- Addional models and languages: The Presidio is currently using spaCy and stanza "
   ]
  },
  {
   "cell_type": "markdown",
   "metadata": {},
   "source": [
    "# Deny-list based PII recognition\n",
    "In this example, we will pass a short list of tokens which should be marked as PII if detected."
   ]
  },
  {
   "cell_type": "markdown",
   "metadata": {},
   "source": [
    "First, let's try to define the tokens we want to treat as PII. In this example it would be a list of tittles"
   ]
  },
  {
   "cell_type": "code",
   "execution_count": 2,
   "metadata": {},
   "outputs": [],
   "source": [
    "titles_list = [\n",
    "    \"Sir\",\n",
    "    \"Ma'am\",\n",
    "    \"Madam\",\n",
    "    \"Mr.\",\n",
    "    \"Mrs.\",\n",
    "    \"Ms.\",\n",
    "    \"Miss\",\n",
    "    \"Dr.\",\n",
    "    \"Professor\",\n",
    "]"
   ]
  },
  {
   "cell_type": "markdown",
   "metadata": {},
   "source": [
    "Second, let's create a PatternRecognize which would scan for those title, by parsing a deny_list"
   ]
  },
  {
   "cell_type": "code",
   "execution_count": 5,
   "metadata": {},
   "outputs": [
    {
     "name": "stdout",
     "output_type": "stream",
     "text": [
      "[type: TITLE, start: 7, end: 10, score: 1.0]\n"
     ]
    }
   ],
   "source": [
    "from presidio_analyzer import PatternRecognizer\n",
    "titles_recognizer = PatternRecognizer(supported_entity=\"TITLE\", deny_list=titles_list)\n",
    "\n",
    "# Call our analyzer engine with the new recognizer\n",
    "text = \"Hello, Mr. John Doe\"\n",
    "result = titles_recognizer.analyze(text, entities=[\"TITLE\"])\n",
    "print(result)"
   ]
  },
  {
   "cell_type": "markdown",
   "metadata": {},
   "source": [
    "Now, if you want to detect both title and person name from this text. You need to add the title_recognizer into AnalyzerEngine"
   ]
  },
  {
   "cell_type": "code",
   "execution_count": 20,
   "metadata": {},
   "outputs": [
    {
     "name": "stdout",
     "output_type": "stream",
     "text": [
      "Identified the following PII:\n",
      "- Mr. as TITLE\n",
      "- John Doe as PERSON\n"
     ]
    }
   ],
   "source": [
    "from presidio_analyzer import AnalyzerEngine\n",
    "\n",
    "analyzer = AnalyzerEngine()\n",
    "# Add title_recognizer to the analyzer\n",
    "analyzer.registry.add_recognizer(titles_recognizer)\n",
    "# Now test the analyzer with the new recognizer\n",
    "text = \"Hello, Mr. John Doe\"\n",
    "results = analyzer.analyze(text, language=\"en\", entities=[\"TITLE\", \"PERSON\"])\n",
    "# print(results)\n",
    "print(\"Identified the following PII:\")\n",
    "for result in results:\n",
    "    print(f\"- {text[result.start:result.end]} as {result.entity_type}\")\n"
   ]
  },
  {
   "cell_type": "markdown",
   "metadata": {},
   "source": [
    "# Regular-expressions based PII recognition\n",
    "In this example, we'll showcase an simple example to add a recoginzer based on regular expression. Let's assume we want to be extremely conservative and treat any token which contains a number as PII"
   ]
  },
  {
   "cell_type": "code",
   "execution_count": 22,
   "metadata": {},
   "outputs": [
    {
     "name": "stdout",
     "output_type": "stream",
     "text": [
      "Identified the following PII:\n",
      "- 555 as NUMBER\n",
      "- 1234 as NUMBER\n"
     ]
    }
   ],
   "source": [
    "from presidio_analyzer import Pattern, PatternRecognizer\n",
    "\n",
    "# Define the regex pattern in a Presidio Pattern object\n",
    "number_pattern = Pattern(name=\"numbers_pattern\", regex=\"\\d+\", score=0.5)\n",
    "\n",
    "# Define a PatternRecognizer with the number_patterns\n",
    "number_recognizer = PatternRecognizer(supported_entity=\"NUMBER\", patterns=[number_pattern])\n",
    "\n",
    "# Test the recognizer\n",
    "text = \"My phone number is 555-1234\"\n",
    "results = number_recognizer.analyze(text, entities=[\"NUMBER\"])\n",
    "print(\"Identified the following PII:\")\n",
    "for result in results:\n",
    "    print(f\"- {text[result.start:result.end]} as {result.entity_type}\")"
   ]
  },
  {
   "cell_type": "markdown",
   "metadata": {},
   "source": [
    "It's important that the new recognizer added can contain errors, both false-positive and false-negative, which would impact the entire performance of presidio. Please consider testing each recognizer on a representative dataset"
   ]
  },
  {
   "cell_type": "markdown",
   "metadata": {},
   "source": [
    "# Rule based logic recognizer\n",
    "Taking the numbers recognizer above one step further, let's say we also would like to detect numbers within words. For example \"Number One\". We can leverage the underlying spaCy token attributes, or write our own logic to detect such entities (which are not able to detect by using regular expression or deny-list)\n",
    "\n",
    "- In this example, we would create a new class, which extends from EntityRecognizer, the basic recognizer in Presidio. This abstract class requires us to implement the load method and analyze method\n",
    "- Each customize recognizer accepts an object of type NlpArtifacts, which holds pre-computed attributes on the input text"
   ]
  },
  {
   "cell_type": "code",
   "execution_count": 19,
   "metadata": {},
   "outputs": [
    {
     "name": "stdout",
     "output_type": "stream",
     "text": [
      "Identified the following PII:\n",
      "- Harry as PERSON\n",
      "- Five as NUMBER\n",
      "- Five as NUMBER\n",
      "- Five as NUMBER\n",
      "- One as NUMBER\n",
      "- Two as NUMBER\n",
      "- Three as NUMBER\n",
      "- Four as NUMBER\n"
     ]
    }
   ],
   "source": [
    "from typing import List\n",
    "from presidio_analyzer import EntityRecognizer, RecognizerResult, AnalyzerEngine\n",
    "from presidio_analyzer.nlp_engine import NlpArtifacts\n",
    "\n",
    "# New recognizer class\n",
    "class MyNumbersRecognizer(EntityRecognizer):\n",
    "    expected_confidence_level = 0.7\n",
    "    def load(self) -> None:\n",
    "        pass\n",
    "\n",
    "    def analyze(\n",
    "            self, text: str, entities: List[str], nlp_artifacts: NlpArtifacts\n",
    "    ) -> List[RecognizerResult]:\n",
    "        # Iterate over the spaCy tokens, and call token.like_num\n",
    "        for token in nlp_artifacts.tokens:\n",
    "            if token.like_num:\n",
    "                result = RecognizerResult(\n",
    "                        entity_type=\"NUMBER\",\n",
    "                        start=token.idx,\n",
    "                        end=token.idx + len(token),\n",
    "                        score=self.expected_confidence_level\n",
    "                )\n",
    "                results.append(result)\n",
    "        return results\n",
    "    \n",
    "# Now create an instance of MyNumbersRecognizer with supported_entities is NUMBER\n",
    "new_numbers_recognizer = MyNumbersRecognizer(supported_entities = [\"NUMBER\"])\n",
    "# Create an instance of the analyzer engine\n",
    "analyzer = AnalyzerEngine()\n",
    "# Add the new number recognizer to the analyzer\n",
    "analyzer.registry.add_recognizer(new_numbers_recognizer)\n",
    "\n",
    "# Test the analyzer with the new recognizer\n",
    "text = \"My name is Harry and my phone number is Five Five Five One Two Three Four\"\n",
    "results = analyzer.analyze(text, language=\"en\")\n",
    "print(\"Identified the following PII:\")\n",
    "for result in results:\n",
    "    print(f\"- {text[result.start:result.end]} as {result.entity_type}\")"
   ]
  },
  {
   "cell_type": "code",
   "execution_count": null,
   "metadata": {},
   "outputs": [],
   "source": []
  }
 ],
 "metadata": {
  "kernelspec": {
   "display_name": "Python 3",
   "language": "python",
   "name": "python3"
  },
  "language_info": {
   "codemirror_mode": {
    "name": "ipython",
    "version": 3
   },
   "file_extension": ".py",
   "mimetype": "text/x-python",
   "name": "python",
   "nbconvert_exporter": "python",
   "pygments_lexer": "ipython3",
   "version": "3.9.19"
  }
 },
 "nbformat": 4,
 "nbformat_minor": 2
}
